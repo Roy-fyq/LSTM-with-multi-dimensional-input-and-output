{
 "cells": [
  {
   "cell_type": "code",
   "execution_count": 1,
   "metadata": {},
   "outputs": [],
   "source": [
    "from DataProcess import data_2_seq\n",
    "from model import LSTM1\n",
    "from train import train\n",
    "import pandas as pd\n",
    "import numpy as np \n",
    "import torch\n",
    "import torch.nn as nn\n",
    "\n",
    "all_data = pd.read_csv(\"flights.csv\")\n",
    "data = all_data['passengers'].values.astype(float)\n",
    "train_data = data[:-12]\n",
    "train_data = np.vstack((train_data, train_data))\n",
    "train_data = train_data.reshape(2, -1)\n",
    "train_data = torch.tensor(train_data, dtype=torch.float32)\n",
    "train_seq = data_2_seq(train_data, 12, single=False, feature_index=[0,1], out_index=[0,1])"
   ]
  },
  {
   "cell_type": "code",
   "execution_count": 2,
   "metadata": {},
   "outputs": [
    {
     "name": "stdout",
     "output_type": "stream",
     "text": [
      "epoch  0 :  155745.6875\n",
      "epoch  1 :  148143.9375\n",
      "epoch  2 :  140659.625\n",
      "epoch  3 :  133449.59375\n",
      "epoch  4 :  126845.03125\n",
      "epoch  5 :  120862.671875\n",
      "epoch  6 :  114920.03125\n",
      "epoch  7 :  109468.828125\n",
      "epoch  8 :  104319.0625\n",
      "epoch  9 :  99429.515625\n"
     ]
    },
    {
     "data": {
      "text/plain": [
       "(LSTM1(\n",
       "   (lstm): LSTM(2, 100)\n",
       "   (liner): Linear(in_features=100, out_features=2, bias=True)\n",
       " ),\n",
       " [155745.6875,\n",
       "  148143.9375,\n",
       "  140659.625,\n",
       "  133449.59375,\n",
       "  126845.03125,\n",
       "  120862.671875,\n",
       "  114920.03125,\n",
       "  109468.828125,\n",
       "  104319.0625,\n",
       "  99429.515625])"
      ]
     },
     "execution_count": 2,
     "metadata": {},
     "output_type": "execute_result"
    }
   ],
   "source": [
    "net = LSTM1(inputsize=2, hiddenlayer=100, outputsize=2)\n",
    "optim = torch.optim.Adam(net.parameters(),lr = 1e-3)\n",
    "lr = 1e-3\n",
    "epochs = 10\n",
    "loss_func = nn.MSELoss()\n",
    "train(train_seq, net, epochs, optim, loss_func)"
   ]
  }
 ],
 "metadata": {
  "kernelspec": {
   "display_name": "py_310",
   "language": "python",
   "name": "python3"
  },
  "language_info": {
   "codemirror_mode": {
    "name": "ipython",
    "version": 3
   },
   "file_extension": ".py",
   "mimetype": "text/x-python",
   "name": "python",
   "nbconvert_exporter": "python",
   "pygments_lexer": "ipython3",
   "version": "3.10.13"
  }
 },
 "nbformat": 4,
 "nbformat_minor": 2
}
